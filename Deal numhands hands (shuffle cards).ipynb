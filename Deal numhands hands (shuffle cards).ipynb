{
 "cells": [
  {
   "cell_type": "markdown",
   "metadata": {},
   "source": [
    "# Mine"
   ]
  },
  {
   "cell_type": "code",
   "execution_count": 7,
   "metadata": {},
   "outputs": [
    {
     "name": "stdout",
     "output_type": "stream",
     "text": [
      "[['2S', '8H', '2D', 'AD', '9H'], ['7H', 'QH', 'TS', 'JS', '9S'], ['JS', '8S', 'TH', 'JS', '2S']]\n",
      "63 µs ± 30.9 µs per loop (mean ± std. dev. of 7 runs, 10000 loops each)\n"
     ]
    }
   ],
   "source": [
    "# Write a function, deal(numhands, n=5, deck), that deals numhands hands with n cards each.\n",
    "\n",
    "# This builds a deck of 52 cards. If you are unfamiliar with this notation, check out Andy's supplemental video on list \n",
    "# comprehensions (you can find the link in the Instructor Comments box below).\n",
    "\n",
    "import random # this will be a useful library for shuffling\n",
    "\n",
    "mydeck = [r+s for r in '23456789TJQKA' for s in 'SHDC'] \n",
    "\n",
    "def deal(numhands, n=5, deck=mydeck):\n",
    "    \n",
    "    tem, res = [], []\n",
    "    \n",
    "    for i in range(numhands):\n",
    "        \n",
    "        for j in range(n):\n",
    "            \n",
    "            tem = tem + [mydeck[random.randrange(len(mydeck))]]\n",
    "        \n",
    "        res.append(tem)\n",
    "        tem = []\n",
    "    \n",
    "    return res\n",
    "\n",
    "print (deal(3,5)) \n",
    "\n",
    "%timeit deal(5,9)"
   ]
  },
  {
   "cell_type": "markdown",
   "metadata": {},
   "source": [
    "# Instructor\n",
    "# different mindset"
   ]
  },
  {
   "cell_type": "code",
   "execution_count": 2,
   "metadata": {},
   "outputs": [
    {
     "name": "stdout",
     "output_type": "stream",
     "text": [
      "[['QD', '7D', '7C', '9S', 'QS'], ['2C', 'AS', '4C', '6C', '8H']]\n",
      "46.3 µs ± 18 µs per loop (mean ± std. dev. of 7 runs, 10000 loops each)\n"
     ]
    }
   ],
   "source": [
    "import random # this will be a useful library for shuffling\n",
    "\n",
    "mydeck = [r+s for r in '23456789TJQKA' for s in 'SHDC'] \n",
    "\n",
    "def deal(numhands, n=5, deck=mydeck):\n",
    "    \n",
    "    random.shuffle(deck)\n",
    "    \n",
    "    return [deck[n*i:n*(i+1)] for i in range(numhands)]\n",
    "\n",
    "print (deal(2,5))\n",
    "\n",
    "#print (deal(5,9))\n",
    "\n",
    "%timeit deal(5,9)"
   ]
  }
 ],
 "metadata": {
  "kernelspec": {
   "display_name": "Python 3",
   "language": "python",
   "name": "python3"
  },
  "language_info": {
   "codemirror_mode": {
    "name": "ipython",
    "version": 3
   },
   "file_extension": ".py",
   "mimetype": "text/x-python",
   "name": "python",
   "nbconvert_exporter": "python",
   "pygments_lexer": "ipython3",
   "version": "3.7.3"
  }
 },
 "nbformat": 4,
 "nbformat_minor": 2
}
