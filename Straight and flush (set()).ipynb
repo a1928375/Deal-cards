{
 "cells": [
  {
   "cell_type": "markdown",
   "metadata": {},
   "source": [
    "# Mine"
   ]
  },
  {
   "cell_type": "code",
   "execution_count": 10,
   "metadata": {},
   "outputs": [
    {
     "name": "stdout",
     "output_type": "stream",
     "text": [
      "tests pass\n",
      "473 ns ± 170 ns per loop (mean ± std. dev. of 7 runs, 1000000 loops each)\n"
     ]
    }
   ],
   "source": [
    "# User Instructions\n",
    "# \n",
    "# Define two functions, straight(ranks) and flush(hand). Keep in mind that ranks will be ordered from largest to \n",
    "# smallest.\n",
    "\n",
    "def straight(ranks):\n",
    "    \"Return True if the ordered ranks form a 5-card straight.\"\n",
    "    \n",
    "    return (ranks[0] == ranks[1]+1) and (ranks[1] == ranks[2]+1) and (ranks[2] == ranks[3]+1) and (ranks[3] == ranks[4]+1)\n",
    "\n",
    "def flush(hand):\n",
    "    \"Return True if all the cards have the same suit.\"\n",
    "    \n",
    "    suit = [s for r,s in hand]\n",
    "    \n",
    "    return suit.count(suit[0]) == 5\n",
    "    \n",
    "def test():\n",
    "    \"Test cases for the functions in poker program.\"\n",
    "    sf = \"6C 7C 8C 9C TC\".split()\n",
    "    fk = \"9D 9H 9S 9C 7D\".split()\n",
    "    fh = \"TD TC TH 7C 7D\".split()\n",
    "    assert straight([9, 8, 7, 6, 5]) == True\n",
    "    assert straight([9, 8, 8, 6, 5]) == False\n",
    "    assert flush(sf) == True\n",
    "    assert flush(fk) == False\n",
    "    return 'tests pass'\n",
    "\n",
    "print (test())\n",
    "\n",
    "%timeit straight([9, 8, 7, 6, 5])"
   ]
  },
  {
   "cell_type": "markdown",
   "metadata": {},
   "source": [
    "# Instructor"
   ]
  },
  {
   "cell_type": "code",
   "execution_count": 8,
   "metadata": {},
   "outputs": [
    {
     "name": "stdout",
     "output_type": "stream",
     "text": [
      "tests pass\n",
      "1.44 µs ± 355 ns per loop (mean ± std. dev. of 7 runs, 1000000 loops each)\n"
     ]
    }
   ],
   "source": [
    "def straight(ranks):\n",
    "    \"Return True if the ordered ranks form a 5-card straight.\"\n",
    "    \n",
    "    return (max(ranks)-min(ranks) == 4) and (len(set(ranks)) == 5)\n",
    "\n",
    "def flush(hand):\n",
    "    \"Return True if all the cards have the same suit.\"\n",
    "    \n",
    "    suit = [s for r,s in hand]\n",
    "    \n",
    "    return len(set(suit)) == 1\n",
    "\n",
    "def test():\n",
    "    \"Test cases for the functions in poker program.\"\n",
    "    sf = \"6C 7C 8C 9C TC\".split()\n",
    "    fk = \"9D 9H 9S 9C 7D\".split()\n",
    "    fh = \"TD TC TH 7C 7D\".split()\n",
    "    assert straight([9, 8, 7, 6, 5]) == True\n",
    "    assert straight([9, 8, 8, 6, 5]) == False\n",
    "    assert flush(sf) == True\n",
    "    assert flush(fk) == False\n",
    "    return 'tests pass'\n",
    "\n",
    "print (test())\n",
    "%timeit straight([9, 8, 7, 6, 5])"
   ]
  }
 ],
 "metadata": {
  "kernelspec": {
   "display_name": "Python 3",
   "language": "python",
   "name": "python3"
  },
  "language_info": {
   "codemirror_mode": {
    "name": "ipython",
    "version": 3
   },
   "file_extension": ".py",
   "mimetype": "text/x-python",
   "name": "python",
   "nbconvert_exporter": "python",
   "pygments_lexer": "ipython3",
   "version": "3.7.3"
  }
 },
 "nbformat": 4,
 "nbformat_minor": 2
}
