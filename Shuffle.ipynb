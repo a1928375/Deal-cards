{
 "cells": [
  {
   "cell_type": "markdown",
   "metadata": {},
   "source": [
    "# 1. The worst shuffle"
   ]
  },
  {
   "cell_type": "code",
   "execution_count": 1,
   "metadata": {},
   "outputs": [
    {
     "name": "stdout",
     "output_type": "stream",
     "text": [
      "swap 1 2\n",
      "swap 2 1\n",
      "swap 1 3\n",
      "swap 2 3\n",
      "swap 1 1\n",
      "swap 3 0\n",
      "swap 0 3\n",
      "swap 1 2\n",
      "swap 2 4\n",
      "swap 3 0\n",
      "swap 2 4\n",
      "swap 2 2\n",
      "swap 4 1\n",
      "[3, 5, 4, 1, 2]\n"
     ]
    }
   ],
   "source": [
    "import random\n",
    "\n",
    "def badshuffle(deck):\n",
    "    \n",
    "    N = len(deck)\n",
    "    \n",
    "    swapped = [False] * N\n",
    "    \n",
    "    while not all(swapped):\n",
    "        \n",
    "        i,j = random.randrange(N), random.randrange(N)\n",
    "        \n",
    "        swapped[i] = True                 #因為只替換掉一個element成為True\n",
    "                                          #我的看法: 很不合理，所以是the worst shuffle\n",
    "        \n",
    "        swap(deck, i, j)\n",
    "    \n",
    "    return deck\n",
    "        \n",
    "def swap(deck, i ,j):\n",
    "    \n",
    "    print (\"swap\", i, j)\n",
    "    \n",
    "    deck[i], deck[j] = deck[j], deck[i]\n",
    "    \n",
    "print (badshuffle([1,2,3,4,5]))\n"
   ]
  },
  {
   "cell_type": "markdown",
   "metadata": {},
   "source": [
    "# 2. Improved version"
   ]
  },
  {
   "cell_type": "code",
   "execution_count": 2,
   "metadata": {},
   "outputs": [
    {
     "name": "stdout",
     "output_type": "stream",
     "text": [
      "swap 1 1\n",
      "swap 2 1\n",
      "swap 3 2\n",
      "swap 0 1\n",
      "swap 4 4\n",
      "[3, 1, 4, 2, 5]\n"
     ]
    }
   ],
   "source": [
    "import random\n",
    "\n",
    "def badshuffle2(deck):\n",
    "    \n",
    "    N = len(deck)\n",
    "    \n",
    "    swapped = [False] * N\n",
    "    \n",
    "    while not all(swapped):\n",
    "        \n",
    "        i,j = random.randrange(N), random.randrange(N) #但是因為i & j都是用random.randrange(N)\n",
    "                                                       #所以i or j有可能會一直重覆叫到相同element，與\n",
    "                                                       #如下的(1,0) & (1,2)\n",
    "                                                       #增加function calls的次數\n",
    "        \n",
    "        swapped[i] = swapped[j] = True       #與badshuffle相比，badshuffle2替換掉兩個elements成為True \n",
    "                                             # => 合理\n",
    "                                             # => 大幅縮短function calls\n",
    "        \n",
    "        swap(deck, i, j)\n",
    "        \n",
    "    return deck\n",
    "        \n",
    "def swap(deck, i ,j):\n",
    "    \n",
    "    print (\"swap\", i, j)\n",
    "    \n",
    "    deck[i], deck[j] = deck[j], deck[i]\n",
    "    \n",
    "print (badshuffle2([1,2,3,4,5]))"
   ]
  },
  {
   "cell_type": "markdown",
   "metadata": {},
   "source": [
    "# 3. Re-improved vesion"
   ]
  },
  {
   "cell_type": "code",
   "execution_count": 3,
   "metadata": {},
   "outputs": [
    {
     "name": "stdout",
     "output_type": "stream",
     "text": [
      "swap 0 1\n",
      "swap 1 3\n",
      "swap 2 4\n",
      "swap 3 4\n",
      "swap 4 0\n",
      "[1, 4, 5, 3, 2]\n"
     ]
    }
   ],
   "source": [
    "import random\n",
    "\n",
    "def badshuffle3(deck):\n",
    "    \n",
    "    N = len(deck)\n",
    "    \n",
    "    for i in range(N):\n",
    "        \n",
    "        swap(deck, i, random.randrange(N))            #直接swap i & 另一random element\n",
    "                                                      # i只會從 0 到 N\n",
    "                                                      #不會重覆叫相同的i (因為i不是random)\n",
    "        \n",
    "    return deck\n",
    "    \n",
    "def swap(deck, i ,j):\n",
    "    \n",
    "    print (\"swap\", i, j)\n",
    "    \n",
    "    deck[i], deck[j] = deck[j], deck[i]\n",
    "    \n",
    "print (badshuffle3([1,2,3,4,5]))\n"
   ]
  },
  {
   "cell_type": "markdown",
   "metadata": {},
   "source": [
    "# 4. Better version\n",
    "# 但是有可能會有element沒有被shuffled，如下results，4th element沒有被shuffled\n",
    "# 我的看法: 此法有問題，因為i是到N-1 => 所以4th element有可能沒有被shuffled"
   ]
  },
  {
   "cell_type": "code",
   "execution_count": 4,
   "metadata": {},
   "outputs": [
    {
     "name": "stdout",
     "output_type": "stream",
     "text": [
      "swap 0 1\n",
      "swap 1 4\n",
      "swap 2 3\n",
      "swap 3 4\n",
      "[2, 5, 4, 1, 3]\n"
     ]
    }
   ],
   "source": [
    "import random\n",
    "\n",
    "def goodshuffle(deck):\n",
    "    \n",
    "    N = len(deck)\n",
    "    \n",
    "    for i in range(N-1):\n",
    "        \n",
    "        swap(deck, i, random.randrange(i, N))     #直接swap i & 另一random element\n",
    "                                                  # i只會從 0 到 (N-1)\n",
    "                                                  #不會重覆叫相同的i\n",
    "                                                  #且因為是random.randrange(i, N)\n",
    "                                                  #所以最後一個element肯定會在完成時就已竟被shuffled過\n",
    "                                                  # => 省function call   \n",
    "    return deck\n",
    "        \n",
    "def swap(deck, i ,j):\n",
    "    \n",
    "    print (\"swap\", i, j)\n",
    "    \n",
    "    deck[i], deck[j] = deck[j], deck[i]\n",
    "    \n",
    "print (goodshuffle([1,2,3,4,5]))\n",
    "\n",
    "# Ex:\n",
    "# swap 0 2\n",
    "# swap 1 3\n",
    "# swap 2 3\n",
    "# swap 3 3\n",
    "# None"
   ]
  },
  {
   "cell_type": "markdown",
   "metadata": {},
   "source": [
    "# 5.\n",
    "# 我的看法: 此法較好，但是4th element還是有可能沒有被shuffled，還是沒有badshuffle3好"
   ]
  },
  {
   "cell_type": "code",
   "execution_count": 5,
   "metadata": {},
   "outputs": [
    {
     "name": "stdout",
     "output_type": "stream",
     "text": [
      "swap 0 4\n",
      "swap 1 3\n",
      "swap 2 3\n",
      "swap 3 3\n",
      "swap 4 4\n",
      "[5, 4, 2, 3, 1]\n"
     ]
    }
   ],
   "source": [
    "import random\n",
    "\n",
    "def goodshuffle(deck):\n",
    "    \n",
    "    N = len(deck)\n",
    "    \n",
    "    for i in range(N):\n",
    "        \n",
    "        swap(deck, i, random.randrange(i, N))     #直接swap i & 另一random element\n",
    "                                                  # i只會從 0 到 N\n",
    "                                                  #不會重覆叫相同的i\n",
    "                                                  #且因為是random.randrange(i, N) \n",
    "    return deck    \n",
    "        \n",
    "def swap(deck, i ,j):\n",
    "    \n",
    "    print (\"swap\", i, j)\n",
    "    \n",
    "    deck[i], deck[j] = deck[j], deck[i]\n",
    "    \n",
    "print (goodshuffle([1,2,3,4,5]))\n",
    "\n",
    "# Ex:\n",
    "# swap 0 3\n",
    "# swap 1 2\n",
    "# swap 2 3\n",
    "# swap 3 3\n",
    "# swap 4 4\n",
    "# None"
   ]
  }
 ],
 "metadata": {
  "kernelspec": {
   "display_name": "Python 3",
   "language": "python",
   "name": "python3"
  },
  "language_info": {
   "codemirror_mode": {
    "name": "ipython",
    "version": 3
   },
   "file_extension": ".py",
   "mimetype": "text/x-python",
   "name": "python",
   "nbconvert_exporter": "python",
   "pygments_lexer": "ipython3",
   "version": "3.7.3"
  }
 },
 "nbformat": 4,
 "nbformat_minor": 2
}
